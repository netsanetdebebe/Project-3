{
  "cells": [
    {
      "cell_type": "code",
      "execution_count": 8,
      "metadata": {},
      "outputs": [],
      "source": [
        "# Import dependencies\n",
        "\n",
        "import datetime as dt \n",
        "import numpy as np \n",
        "from sqlalchemy.orm import Session\n",
        "from sqlalchemy import create_engine, func\n",
        "from sqlalchemy.ext.automap import automap_base\n",
        "from flask import Flask, jsonify\n",
        "\n",
        "from pymongo import MongoClient\n",
        "from pprint import pprint\n",
        "import pandas as pd \n",
        "\n"
      ]
    },
    {
      "cell_type": "code",
      "execution_count": 9,
      "metadata": {},
      "outputs": [],
      "source": [
        "# Create an instance of MongoClient\n",
        "mongo = MongoClient(port=27017)"
      ]
    },
    {
      "cell_type": "code",
      "execution_count": 10,
      "metadata": {},
      "outputs": [
        {
          "name": "stdout",
          "output_type": "stream",
          "text": [
            "['Netstest', 'admin', 'config', 'local', 'uk_food']\n"
          ]
        }
      ],
      "source": [
        "# Create database\n",
        "print(mongo.list_database_names())"
      ]
    },
    {
      "cell_type": "code",
      "execution_count": 11,
      "metadata": {},
      "outputs": [],
      "source": [
        "# assign the uk_food database to a variable name\n",
        "db = mongo['Hospitals_PNW']"
      ]
    },
    {
      "cell_type": "code",
      "execution_count": 12,
      "metadata": {},
      "outputs": [
        {
          "name": "stdout",
          "output_type": "stream",
          "text": [
            "[]\n"
          ]
        }
      ],
      "source": [
        "print(db.list_collection_names())\n"
      ]
    }
  ],
  "metadata": {
    "colab": {
      "provenance": []
    },
    "kernelspec": {
      "display_name": "Python 3",
      "name": "python3"
    },
    "language_info": {
      "codemirror_mode": {
        "name": "ipython",
        "version": 3
      },
      "file_extension": ".py",
      "mimetype": "text/x-python",
      "name": "python",
      "nbconvert_exporter": "python",
      "pygments_lexer": "ipython3",
      "version": "3.10.9"
    }
  },
  "nbformat": 4,
  "nbformat_minor": 0
}
